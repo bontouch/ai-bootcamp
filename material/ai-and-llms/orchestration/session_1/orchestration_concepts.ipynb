{
 "cells": [
  {
   "cell_type": "markdown",
   "metadata": {},
   "source": [
    "# Orchestration Concepts - Interactive Workshop\n",
    "\n",
    "## Learning Goals\n",
    "- Understand the difference between single calls and orchestration\n",
    "- See how structured outputs become orchestration triggers\n",
    "- Learn context management strategies across calls\n",
    "\n",
    "## What is Orchestration?\n",
    "\n",
    "**The Core Problem**  \n",
    "Real AI applications need multiple steps:\n",
    "- \"Find me a cheap lunch nearby\" requires: location → restaurants → prices → comparison\n",
    "- Single LLM calls can't access external data or perform calculations\n",
    "- Orchestration = chaining actions based on LLM decisions\n",
    "\n",
    "**Single Call vs Orchestration**\n",
    "```\n",
    "Single Call:     User Input → LLM → Response (limited)\n",
    "Orchestration:   User Input → LLM → Tool Call → LLM → Tool Call → Response (powerful)\n",
    "```"
   ]
  },
  {
   "cell_type": "markdown",
   "metadata": {},
   "source": [
    "## Setup\n",
    "\n",
    "First, let's import the required libraries and set up our OpenAI client."
   ]
  },
  {
   "cell_type": "code",
   "execution_count": null,
   "metadata": {},
   "outputs": [],
   "source": [
    "import json\n",
    "from openai import OpenAI\n",
    "from pydantic import BaseModel\n",
    "from typing import List, Optional\n",
    "\n",
    "client = OpenAI()"
   ]
  },
  {
   "cell_type": "markdown",
   "metadata": {},
   "source": [
    "# Concept 1: Structured Outputs as Orchestration Triggers\n",
    "\n",
    "**The Key Insight**: Structured outputs tell us what to do next\n",
    "\n",
    "```python\n",
    "# This structured response contains our next actions:\n",
    "{\n",
    "  \"items\": [\"Big Mac\", \"medium fries\", \"Coke\"],\n",
    "  \"action\": \"search_prices\",  # ← This triggers the next step\n",
    "  \"restaurant\": \"McDonald's\",\n",
    "  \"confidence\": 0.95\n",
    "}\n",
    "```"
   ]
  },
  {
   "cell_type": "code",
   "execution_count": null,
   "metadata": {},
   "outputs": [],
   "source": [
    "class MealAnalysis(BaseModel):\n",
    "    \"\"\"Structured output that contains orchestration instructions\"\"\"\n",
    "    \n",
    "    items: List[str]\n",
    "    action: str  # This field determines what happens next!\n",
    "    restaurant: Optional[str] = None\n",
    "    confidence: float"
   ]
  },
  {
   "cell_type": "code",
   "execution_count": null,
   "metadata": {},
   "outputs": [],
   "source": [
    "def analyze_meal_order(order: str) -> MealAnalysis:\n",
    "    \"\"\"\n",
    "    CONCEPT: The LLM returns structured data that tells us what to do next\n",
    "    \"\"\"\n",
    "    response = client.responses.parse(\n",
    "        model=\"gpt-4.1\",\n",
    "        input=[\n",
    "            {\n",
    "                \"role\": \"user\",\n",
    "                \"content\": f\"\"\"Analyze this meal order: \"{order}\"\n",
    "        \n",
    "        Break it into individual items and decide the next action.\n",
    "        Set action to:\n",
    "        - 'search_database' if it's a common restaurant meal\n",
    "        - 'search_web' if it's an unusual or specific item\n",
    "        - 'estimate' if it's too vague to search\n",
    "        \n",
    "        Be specific about restaurant chains when mentioned.\"\"\",\n",
    "            }\n",
    "        ],\n",
    "        text_format=MealAnalysis,\n",
    "    )\n",
    "    return response.output_parsed"
   ]
  },
  {
   "cell_type": "markdown",
   "metadata": {},
   "source": [
    "### Demo: Structured Outputs as Triggers\n",
    "\n",
    "Let's see how different meal orders result in different actions being triggered:"
   ]
  },
  {
   "cell_type": "code",
   "execution_count": null,
   "metadata": {},
   "outputs": [],
   "source": [
    "def demo_structured_triggers():\n",
    "    \"\"\"Demonstrate how structured outputs trigger different actions\"\"\"\n",
    "    \n",
    "    print(\"=== CONCEPT 1: Structured Outputs as Triggers ===\\n\")\n",
    "    \n",
    "    test_orders = [\n",
    "        \"Big Mac meal from McDonald's\",\n",
    "        \"homemade chicken sandwich\", \n",
    "        \"some lunch food\"\n",
    "    ]\n",
    "    \n",
    "    for order in test_orders:\n",
    "        print(f\"📝 Order: '{order}'\")\n",
    "        analysis = analyze_meal_order(order)\n",
    "        \n",
    "        print(f\"🔍 Structured Output:\")\n",
    "        print(f\"   Items: {analysis.items}\")\n",
    "        print(f\"   Action: {analysis.action} ← This determines what happens next!\")\n",
    "        print(f\"   Restaurant: {analysis.restaurant}\")\n",
    "        print(f\"   Confidence: {analysis.confidence}\")\n",
    "        \n",
    "        # Show what the action triggers\n",
    "        if analysis.action == \"search_database\":\n",
    "            print(\"   ✅ Would trigger: Database lookup for restaurant prices\")\n",
    "        elif analysis.action == \"search_web\":\n",
    "            print(\"   ✅ Would trigger: Web search for price information\")\n",
    "        elif analysis.action == \"estimate\":\n",
    "            print(\"   ✅ Would trigger: Price estimation based on similar items\")\n",
    "            \n",
    "        print(\"-\" * 50)\n",
    "\n",
    "# Run the demo\n",
    "demo_structured_triggers()"
   ]
  },
  {
   "cell_type": "markdown",
   "metadata": {},
   "source": [
    "# Concept 2: Context Management Across Calls\n",
    "\n",
    "Context must be carefully managed across multiple orchestration steps. Each step receives context from the previous step and potentially modifies it for the next step."
   ]
  },
  {
   "cell_type": "code",
   "execution_count": null,
   "metadata": {},
   "outputs": [],
   "source": [
    "class PriceContext(BaseModel):\n",
    "    \"\"\"Context that accumulates through the orchestration chain\"\"\"\n",
    "    \n",
    "    original_order: str\n",
    "    items: List[str]\n",
    "    prices_found: List[dict] = []\n",
    "    total_price: Optional[float] = None\n",
    "    search_method: str = \"\""
   ]
  },
  {
   "cell_type": "code",
   "execution_count": null,
   "metadata": {},
   "outputs": [],
   "source": [
    "def mock_database_lookup(item: str) -> Optional[dict]:\n",
    "    \"\"\"Mock database that sometimes fails (to demonstrate fallbacks)\"\"\"\n",
    "    \n",
    "    # Mock database with limited data\n",
    "    database = {\n",
    "        \"big mac\": {\"price\": 45.0, \"currency\": \"SEK\"},\n",
    "        \"medium fries\": {\"price\": 25.0, \"currency\": \"SEK\"},\n",
    "        \"french fries\": {\"price\": 25.0, \"currency\": \"SEK\"},\n",
    "        \"medium coke\": {\"price\": 20.0, \"currency\": \"SEK\"},\n",
    "        \"soft drink\": {\"price\": 20.0, \"currency\": \"SEK\"},\n",
    "    }\n",
    "    \n",
    "    return database.get(item.lower())"
   ]
  },
  {
   "cell_type": "markdown",
   "metadata": {},
   "source": [
    "### Demo: Context Management\n",
    "\n",
    "Let's trace how context flows through multiple orchestration steps:"
   ]
  },
  {
   "cell_type": "code",
   "execution_count": null,
   "metadata": {},
   "outputs": [],
   "source": [
    "def demo_context_management():\n",
    "    \"\"\"Show how context flows and accumulates through orchestration steps\"\"\"\n",
    "    \n",
    "    print(\"=== CONCEPT 2: Context Management ===\\n\")\n",
    "    \n",
    "    order = \"Big Mac meal\"\n",
    "    \n",
    "    # Step 1: Initial analysis (creates context)\n",
    "    print(\"🔗 Step 1: Parse order and create context\")\n",
    "    analysis = analyze_meal_order(order)\n",
    "    \n",
    "    context = PriceContext(\n",
    "        original_order=order,\n",
    "        items=analysis.items,\n",
    "        search_method=\"starting\"\n",
    "    )\n",
    "    print(f\"   Context created: {context.original_order}\")\n",
    "    print(f\"   Items to price: {context.items}\")\n",
    "    \n",
    "    # Step 2: Try database lookup (context accumulates)\n",
    "    print(\"\\n🔗 Step 2: Database lookup (context accumulates)\")\n",
    "    for item in context.items:\n",
    "        price_data = mock_database_lookup(item)\n",
    "        if price_data:\n",
    "            context.prices_found.append({\"item\": item, **price_data})\n",
    "            print(f\"   ✅ Found {item}: {price_data['price']} {price_data['currency']}\")\n",
    "        else:\n",
    "            print(f\"   ❌ No database entry for: {item}\")\n",
    "    \n",
    "    # Step 3: Calculate total (context completes)\n",
    "    print(\"\\n🔗 Step 3: Calculate total (context completion)\")\n",
    "    if context.prices_found:\n",
    "        context.total_price = sum(item[\"price\"] for item in context.prices_found)\n",
    "        context.search_method = \"database\"\n",
    "        print(f\"   💰 Total: {context.total_price} SEK\")\n",
    "        print(f\"   📊 Method: {context.search_method}\")\n",
    "    \n",
    "    print(f\"\\n📦 Final Context State:\")\n",
    "    print(f\"   Original: {context.original_order}\")\n",
    "    print(f\"   Total Price: {context.total_price}\")\n",
    "    print(f\"   Items Priced: {len(context.prices_found)}\")\n",
    "    print(\"-\" * 50)\n",
    "\n",
    "# Run the demo\n",
    "demo_context_management()"
   ]
  },
  {
   "cell_type": "markdown",
   "metadata": {},
   "source": [
    "# Concept 3: Fallback Strategies\n",
    "\n",
    "Robust orchestration systems may use fallback strategies when primary methods fail. This prevents the system from breaking when external data sources are unavailable."
   ]
  },
  {
   "cell_type": "code",
   "execution_count": null,
   "metadata": {},
   "outputs": [],
   "source": [
    "def mock_web_search(item: str) -> dict:\n",
    "    \"\"\"Mock web search fallback\"\"\"\n",
    "    # In real implementation, this would search the web\n",
    "    estimated_prices = {\n",
    "        \"chicken sandwich\": 65.0,\n",
    "        \"homemade\": 35.0,\n",
    "        \"lunch\": 50.0\n",
    "    }\n",
    "    \n",
    "    # Find best match or use default\n",
    "    for key in estimated_prices:\n",
    "        if key in item.lower():\n",
    "            return {\n",
    "                \"price\": estimated_prices[key],\n",
    "                \"currency\": \"SEK\",\n",
    "                \"source\": \"web_estimate\"\n",
    "            }\n",
    "    \n",
    "    return {\n",
    "        \"price\": 50.0,\n",
    "        \"currency\": \"SEK\",\n",
    "        \"source\": \"default_estimate\"\n",
    "    }"
   ]
  },
  {
   "cell_type": "markdown",
   "metadata": {},
   "source": [
    "### Demo: Fallback Patterns\n",
    "\n",
    "Let's see how fallbacks work when our primary data source fails:"
   ]
  },
  {
   "cell_type": "code",
   "execution_count": null,
   "metadata": {},
   "outputs": [],
   "source": [
    "def demo_fallback_patterns():\n",
    "    \"\"\"Show how fallbacks work when primary methods fail\"\"\"\n",
    "    \n",
    "    print(\"=== CONCEPT 3: Fallback Patterns ===\\n\")\n",
    "    \n",
    "    # Test with item not in our mock database\n",
    "    item = \"chicken sandwich\"\n",
    "    \n",
    "    print(f\"🔍 Pricing: '{item}'\")\n",
    "    \n",
    "    # Primary: Try database\n",
    "    print(\"   1️⃣ Primary: Database lookup\")\n",
    "    db_result = mock_database_lookup(item)\n",
    "    if db_result:\n",
    "        print(f\"      ✅ Found: {db_result}\")\n",
    "        return db_result\n",
    "    else:\n",
    "        print(f\"      ❌ Not found in database\")\n",
    "    \n",
    "    # Fallback: Try web search\n",
    "    print(\"   2️⃣ Fallback: Web search\")\n",
    "    web_result = mock_web_search(item)\n",
    "    print(f\"      ✅ Web estimate: {web_result}\")\n",
    "    \n",
    "    print(\"\\n💡 Key Insight: Fallbacks let us handle missing data gracefully\")\n",
    "    print(\"   Without fallbacks → System breaks\")\n",
    "    print(\"   With fallbacks → System provides best available answer\")\n",
    "    print(\"-\" * 50)\n",
    "\n",
    "# Run the demo\n",
    "demo_fallback_patterns()"
   ]
  },
  {
   "cell_type": "markdown",
   "metadata": {},
   "source": [
    "# Key Takeaways\n",
    "\n",
    "🎓 **What We've Learned:**\n",
    "\n",
    "1. **Structured outputs contain orchestration instructions** - The LLM doesn't just return data, it returns instructions for what to do next\n",
    "\n",
    "2. **Context must be carefully managed across calls** - Information flows from step to step and accumulates over time\n",
    "\n",
    "3. **Fallbacks are essential for robust systems** - Primary methods will fail, so always have backup strategies\n",
    "\n",
    "4. **Not every task needs orchestration** - Single calls work fine when no external data or multi-step processing is needed\n",
    "\n",
    "**Next Steps**: In the next session, we'll explore more advanced orchestration patterns including tool calling and agent frameworks."
   ]
  }
 ],
 "metadata": {
  "kernelspec": {
   "display_name": ".venv",
   "language": "python",
   "name": "python3"
  },
  "language_info": {
   "codemirror_mode": {
    "name": "ipython",
    "version": 3
   },
   "file_extension": ".py",
   "mimetype": "text/x-python",
   "name": "python",
   "nbconvert_exporter": "python",
   "pygments_lexer": "ipython3",
   "version": "3.13.5"
  }
 },
 "nbformat": 4,
 "nbformat_minor": 4
}
