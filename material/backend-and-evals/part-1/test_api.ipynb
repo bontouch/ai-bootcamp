{
 "cells": [
  {
   "cell_type": "markdown",
   "metadata": {},
   "source": [
    "# Part 1: FastAPI Testing Notebook\n",
    "\n",
    "This notebook demonstrates how to test the FastAPI endpoints we've built.\n",
    "\n",
    "## Prerequisites\n",
    "1. Start the FastAPI server: `uvicorn app.api.main:app --reload`\n",
    "2. Server should be running at: http://localhost:8000\n",
    "3. API docs available at: http://localhost:8000/docs"
   ]
  },
  {
   "cell_type": "code",
   "execution_count": null,
   "metadata": {},
   "outputs": [],
   "source": [
    "import requests\n",
    "import json\n",
    "from typing import Dict, Any\n",
    "\n",
    "# Base URL for our API\n",
    "BASE_URL = \"http://localhost:8000\"\n",
    "API_V1 = f\"{BASE_URL}/api/v1\"\n",
    "\n",
    "def pretty_print(response):\n",
    "    \"\"\"Helper function to nicely format API responses\"\"\"\n",
    "    print(f\"Status: {response.status_code}\")\n",
    "    print(f\"Response: {json.dumps(response.json(), indent=2)}\")\n",
    "    print(\"-\" * 50)"
   ]
  },
  {
   "cell_type": "markdown",
   "metadata": {},
   "source": [
    "## 1. Health Check\n",
    "Let's start by checking if our API is running properly."
   ]
  },
  {
   "cell_type": "code",
   "execution_count": null,
   "metadata": {},
   "outputs": [],
   "source": [
    "# Test health endpoint\n",
    "response = requests.get(f\"{BASE_URL}/health\")\n",
    "pretty_print(response)"
   ]
  },
  {
   "cell_type": "markdown",
   "metadata": {},
   "source": [
    "## 2. Root Endpoint\n",
    "Check the root endpoint for basic API information."
   ]
  },
  {
   "cell_type": "code",
   "execution_count": null,
   "metadata": {},
   "outputs": [],
   "source": [
    "# Test root endpoint\n",
    "response = requests.get(BASE_URL)\n",
    "pretty_print(response)"
   ]
  },
  {
   "cell_type": "markdown",
   "metadata": {},
   "source": [
    "## 3. Create Users\n",
    "Let's create some test users to work with."
   ]
  },
  {
   "cell_type": "code",
   "execution_count": null,
   "metadata": {},
   "outputs": [],
   "source": [
    "# Test data for creating users\n",
    "test_users = [\n",
    "    {\n",
    "        \"name\": \"Alice Johnson\",\n",
    "        \"email\": \"alice@example.com\",\n",
    "        \"age\": 28\n",
    "    },\n",
    "    {\n",
    "        \"name\": \"Bob Smith\",\n",
    "        \"email\": \"bob@example.com\",\n",
    "        \"age\": 35\n",
    "    },\n",
    "    {\n",
    "        \"name\": \"Charlie Brown\",\n",
    "        \"email\": \"charlie@example.com\"\n",
    "        # Note: age is optional\n",
    "    }\n",
    "]\n",
    "\n",
    "created_users = []\n",
    "\n",
    "# Create each user\n",
    "for user_data in test_users:\n",
    "    print(f\"Creating user: {user_data['name']}\")\n",
    "    response = requests.post(f\"{API_V1}/users\", json=user_data)\n",
    "    pretty_print(response)\n",
    "    \n",
    "    if response.status_code == 201:\n",
    "        created_users.append(response.json())\n",
    "    \n",
    "    print()"
   ]
  },
  {
   "cell_type": "markdown",
   "metadata": {},
   "source": [
    "## 4. List All Users\n",
    "Test the pagination functionality."
   ]
  },
  {
   "cell_type": "code",
   "execution_count": null,
   "metadata": {},
   "outputs": [],
   "source": [
    "# Get all users (default pagination)\n",
    "print(\"All users (default pagination):\")\n",
    "response = requests.get(f\"{API_V1}/users\")\n",
    "pretty_print(response)\n",
    "print()\n",
    "\n",
    "# Test pagination parameters\n",
    "print(\"First page with size 2:\")\n",
    "response = requests.get(f\"{API_V1}/users\", params={\"page\": 1, \"size\": 2})\n",
    "pretty_print(response)\n",
    "print()\n",
    "\n",
    "print(\"Second page with size 2:\")\n",
    "response = requests.get(f\"{API_V1}/users\", params={\"page\": 2, \"size\": 2})\n",
    "pretty_print(response)"
   ]
  },
  {
   "cell_type": "markdown",
   "metadata": {},
   "source": [
    "## 5. Get Individual Users\n",
    "Test retrieving specific users by ID."
   ]
  },
  {
   "cell_type": "code",
   "execution_count": null,
   "metadata": {},
   "outputs": [],
   "source": [
    "# Get first created user if available\n",
    "if created_users:\n",
    "    user_id = created_users[0]['id']\n",
    "    print(f\"Getting user with ID {user_id}:\")\n",
    "    response = requests.get(f\"{API_V1}/users/{user_id}\")\n",
    "    pretty_print(response)\n",
    "    print()\n",
    "\n",
    "# Test non-existent user\n",
    "print(\"Trying to get non-existent user (ID 999):\")\n",
    "response = requests.get(f\"{API_V1}/users/999\")\n",
    "pretty_print(response)"
   ]
  },
  {
   "cell_type": "markdown",
   "metadata": {},
   "source": [
    "## 6. Update Users\n",
    "Test the update functionality."
   ]
  },
  {
   "cell_type": "code",
   "execution_count": null,
   "metadata": {},
   "outputs": [],
   "source": [
    "if created_users:\n",
    "    user_id = created_users[0]['id']\n",
    "    \n",
    "    # Update user's age\n",
    "    print(f\"Updating user {user_id} age:\")\n",
    "    update_data = {\"age\": 30}\n",
    "    response = requests.put(f\"{API_V1}/users/{user_id}\", json=update_data)\n",
    "    pretty_print(response)\n",
    "    print()\n",
    "    \n",
    "    # Update user's name and email\n",
    "    print(f\"Updating user {user_id} name and email:\")\n",
    "    update_data = {\n",
    "        \"name\": \"Alice Cooper\",\n",
    "        \"email\": \"alice.cooper@example.com\"\n",
    "    }\n",
    "    response = requests.put(f\"{API_V1}/users/{user_id}\", json=update_data)\n",
    "    pretty_print(response)\n",
    "    print()\n",
    "    \n",
    "    # Try to update with duplicate email\n",
    "    if len(created_users) > 1:\n",
    "        print(f\"Trying to update with duplicate email:\")\n",
    "        duplicate_email = created_users[1]['email']\n",
    "        update_data = {\"email\": duplicate_email}\n",
    "        response = requests.put(f\"{API_V1}/users/{user_id}\", json=update_data)\n",
    "        pretty_print(response)"
   ]
  },
  {
   "cell_type": "markdown",
   "metadata": {},
   "source": [
    "## 7. Check User Existence\n",
    "Test the utility endpoint to check if users exist."
   ]
  },
  {
   "cell_type": "code",
   "execution_count": null,
   "metadata": {},
   "outputs": [],
   "source": [
    "if created_users:\n",
    "    user_id = created_users[0]['id']\n",
    "    print(f\"Checking if user {user_id} exists:\")\n",
    "    response = requests.get(f\"{API_V1}/users/{user_id}/exists\")\n",
    "    pretty_print(response)\n",
    "    print()\n",
    "\n",
    "print(\"Checking if non-existent user exists:\")\n",
    "response = requests.get(f\"{API_V1}/users/999/exists\")\n",
    "pretty_print(response)"
   ]
  },
  {
   "cell_type": "markdown",
   "metadata": {},
   "source": [
    "## 8. Validation Testing\n",
    "Test the Pydantic validation by sending invalid data."
   ]
  },
  {
   "cell_type": "code",
   "execution_count": null,
   "metadata": {},
   "outputs": [],
   "source": [
    "print(\"Testing validation errors:\")\n",
    "print()\n",
    "\n",
    "# Invalid email format\n",
    "print(\"1. Invalid email format:\")\n",
    "invalid_user = {\n",
    "    \"name\": \"Invalid User\",\n",
    "    \"email\": \"not-an-email\",\n",
    "    \"age\": 25\n",
    "}\n",
    "response = requests.post(f\"{API_V1}/users\", json=invalid_user)\n",
    "pretty_print(response)\n",
    "print()\n",
    "\n",
    "# Negative age\n",
    "print(\"2. Negative age:\")\n",
    "invalid_user = {\n",
    "    \"name\": \"Invalid User\",\n",
    "    \"email\": \"invalid@example.com\",\n",
    "    \"age\": -5\n",
    "}\n",
    "response = requests.post(f\"{API_V1}/users\", json=invalid_user)\n",
    "pretty_print(response)\n",
    "print()\n",
    "\n",
    "# Missing required field\n",
    "print(\"3. Missing name field:\")\n",
    "invalid_user = {\n",
    "    \"email\": \"missing@example.com\",\n",
    "    \"age\": 25\n",
    "}\n",
    "response = requests.post(f\"{API_V1}/users\", json=invalid_user)\n",
    "pretty_print(response)\n",
    "print()\n",
    "\n",
    "# Empty name\n",
    "print(\"4. Empty name:\")\n",
    "invalid_user = {\n",
    "    \"name\": \"\",\n",
    "    \"email\": \"empty@example.com\",\n",
    "    \"age\": 25\n",
    "}\n",
    "response = requests.post(f\"{API_V1}/users\", json=invalid_user)\n",
    "pretty_print(response)"
   ]
  },
  {
   "cell_type": "markdown",
   "metadata": {},
   "source": [
    "## 9. Delete Users\n",
    "Test user deletion functionality."
   ]
  },
  {
   "cell_type": "code",
   "execution_count": null,
   "metadata": {},
   "outputs": [],
   "source": [
    "if created_users:\n",
    "    # Delete the last created user\n",
    "    user_to_delete = created_users[-1]\n",
    "    user_id = user_to_delete['id']\n",
    "    \n",
    "    print(f\"Deleting user {user_id} ({user_to_delete['name']}):\")\n",
    "    response = requests.delete(f\"{API_V1}/users/{user_id}\")\n",
    "    print(f\"Status: {response.status_code}\")\n",
    "    print(f\"Response: {response.text if response.text else 'No content (expected for 204)'}\")\n",
    "    print(\"-\" * 50)\n",
    "    print()\n",
    "    \n",
    "    # Try to get the deleted user\n",
    "    print(f\"Trying to get deleted user {user_id}:\")\n",
    "    response = requests.get(f\"{API_V1}/users/{user_id}\")\n",
    "    pretty_print(response)\n",
    "    print()\n",
    "    \n",
    "    # Try to delete non-existent user\n",
    "    print(\"Trying to delete non-existent user (ID 999):\")\n",
    "    response = requests.delete(f\"{API_V1}/users/999\")\n",
    "    pretty_print(response)"
   ]
  },
  {
   "cell_type": "markdown",
   "metadata": {},
   "source": [
    "## 10. Final State Check\n",
    "Check the final state of users after all operations."
   ]
  },
  {
   "cell_type": "code",
   "execution_count": null,
   "metadata": {},
   "outputs": [],
   "source": [
    "print(\"Final user list:\")\n",
    "response = requests.get(f\"{API_V1}/users\")\n",
    "pretty_print(response)\n",
    "\n",
    "print(\"\\n🎉 API testing complete!\")\n",
    "print(\"\\n📝 Key takeaways:\")\n",
    "print(\"- FastAPI automatically validates input using Pydantic models\")\n",
    "print(\"- Proper HTTP status codes are returned (201, 204, 400, 404)\")\n",
    "print(\"- Pagination works correctly with query parameters\")\n",
    "print(\"- Email validation prevents duplicate entries\")\n",
    "print(\"- Error messages are clear and helpful\")\n",
    "print(\"\\n🔍 Next: Explore the automatic API docs at http://localhost:8000/docs\")"
   ]
  },
  {
   "cell_type": "markdown",
   "metadata": {},
   "source": [
    "## Bonus: Using the Interactive API Documentation\n",
    "\n",
    "FastAPI automatically generates interactive API documentation. While the server is running:\n",
    "\n",
    "1. **Swagger UI**: http://localhost:8000/docs\n",
    "   - Interactive interface to test all endpoints\n",
    "   - Shows request/response schemas\n",
    "   - Try out functionality built-in\n",
    "\n",
    "1. **OpenAPI Schema**: http://localhost:8000/openapi.json\n",
    "   - Raw OpenAPI specification\n",
    "   - Can be used with other tools\n",
    "   - Machine-readable API definition\n",
    "\n",
    "These are generated automatically from your code - no extra work needed!"
   ]
  }
 ],
 "metadata": {
  "kernelspec": {
   "display_name": ".venv",
   "language": "python",
   "name": "python3"
  },
  "language_info": {
   "codemirror_mode": {
    "name": "ipython",
    "version": 3
   },
   "file_extension": ".py",
   "mimetype": "text/x-python",
   "name": "python",
   "nbconvert_exporter": "python",
   "pygments_lexer": "ipython3",
   "version": "3.13.5"
  }
 },
 "nbformat": 4,
 "nbformat_minor": 4
}
